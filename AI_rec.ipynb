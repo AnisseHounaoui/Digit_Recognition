{
 "cells": [
  {
   "cell_type": "code",
   "execution_count": 13,
   "id": "republican-rapid",
   "metadata": {},
   "outputs": [],
   "source": [
    "import torch\n",
    "import torchvision\n",
    "from sklearn.linear_model import LinearRegression\n",
    "from sklearn.model_selection import train_test_split\n",
    "from torchvision import transforms\n",
    "import numpy as np\n",
    "from torch import nn\n",
    "import matplotlib.pyplot as plt"
   ]
  },
  {
   "cell_type": "code",
   "execution_count": 14,
   "id": "rolled-pharmacy",
   "metadata": {},
   "outputs": [],
   "source": [
    "transform = transforms.Compose([transforms.ToTensor()])\n",
    "data_set = torchvision.datasets.MNIST(root='./data', train=True, transform=transform, download=True)\n",
    "validation, training_data, validation_labels, training_labels = \\\n",
    "    train_test_split(data_set.data, data_set.targets, train_size=1 / 6)"
   ]
  },
  {
   "cell_type": "code",
   "execution_count": 3,
   "id": "prerequisite-tuner",
   "metadata": {},
   "outputs": [
    {
     "name": "stdout",
     "output_type": "stream",
     "text": [
      "torch.Size([10000, 28, 28]) torch.Size([50000, 28, 28])\n"
     ]
    }
   ],
   "source": [
    "print(validation.size(), training_data.size())"
   ]
  },
  {
   "cell_type": "code",
   "execution_count": 15,
   "id": "consolidated-memory",
   "metadata": {},
   "outputs": [],
   "source": [
    "def to_cells(pic, k_cells):\n",
    "    n_slices = np.sqrt(k_cells)\n",
    "    assert int(n_slices + 0.5) ** 2 == k_cells\n",
    "    n_slices = n_slices.astype(np.int)\n",
    "    [w, h] = 28, 28\n",
    "    r = np.linspace(0, w, n_slices + 1)\n",
    "    r_tuples = [(np.int(r[i]), np.int(r[i + 1])) for i in range(0, len(r) - 1)]\n",
    "    q = np.linspace(0, h, n_slices + 1)\n",
    "    q_tuples = [(np.int(q[i]), np.int(q[i + 1])) for i in range(0, len(q) - 1)]\n",
    "    cell = []\n",
    "    for row in range(n_slices):\n",
    "        for column in range(n_slices):\n",
    "            [x1, y1, x2, y2] = *r_tuples[row], *q_tuples[column]\n",
    "            cell.append(pic[x1:y1, x2:y2])\n",
    "    return cell"
   ]
  },
  {
   "cell_type": "code",
   "execution_count": 16,
   "id": "polish-burke",
   "metadata": {},
   "outputs": [],
   "source": [
    "def feature(image):\n",
    "    density = torch.count_nonzero(image)\n",
    "    image = to_cells(image, 16)\n",
    "    features = []\n",
    "    for i in range(16):\n",
    "        first_feature = torch.count_nonzero(image[i]) / density\n",
    "        x, y = image[i], image[i]\n",
    "        model = LinearRegression()\n",
    "        model.fit(x, y)\n",
    "        slope = model.coef_[0][0]\n",
    "        second_feature = 2 * slope / (1 + slope ** 2)\n",
    "        third_feature = (1 - slope ** 2) / (1 + slope ** 2)\n",
    "        features.append(first_feature.item())\n",
    "        features.append(second_feature)\n",
    "        features.append(third_feature)\n",
    "    return torch.Tensor(features)"
   ]
  },
  {
   "cell_type": "code",
   "execution_count": 6,
   "id": "fluid-pixel",
   "metadata": {},
   "outputs": [],
   "source": [
    "training_with_features = []\n",
    "for j in range(len(training_data)):\n",
    "    training_with_features.append(feature(training_data[j]))"
   ]
  },
  {
   "cell_type": "code",
   "execution_count": 7,
   "id": "similar-indie",
   "metadata": {},
   "outputs": [],
   "source": [
    "validation_with_features = []\n",
    "for n in range(len(validation)):\n",
    "    validation_with_features.append(feature(validation[n]))"
   ]
  },
  {
   "cell_type": "code",
   "execution_count": 17,
   "id": "expected-future",
   "metadata": {},
   "outputs": [
    {
     "data": {
      "text/plain": [
       "<All keys matched successfully>"
      ]
     },
     "execution_count": 17,
     "metadata": {},
     "output_type": "execute_result"
    }
   ],
   "source": [
    "PATH = 'model_1.pth'\n",
    "my_model = nn.Sequential(nn.Linear(48, 20), nn.ReLU(), nn.Linear(20, 20), nn.ReLU(), nn.Linear(20, 10))\n",
    "my_model.load_state_dict(torch.load(PATH))"
   ]
  },
  {
   "cell_type": "code",
   "execution_count": 9,
   "id": "medical-figure",
   "metadata": {},
   "outputs": [],
   "source": [
    "training_loader = []\n",
    "for elt in range(len(training_with_features)):\n",
    "    training_loader.append((training_with_features[elt], training_labels[elt].item()))"
   ]
  },
  {
   "cell_type": "code",
   "execution_count": 10,
   "id": "intimate-strengthening",
   "metadata": {},
   "outputs": [],
   "source": [
    "validation_loader = []\n",
    "for elt in range(len(validation_with_features)):\n",
    "    validation_loader.append((validation_with_features[elt], validation_labels[elt].item()))"
   ]
  },
  {
   "cell_type": "code",
   "execution_count": 11,
   "id": "remarkable-allah",
   "metadata": {},
   "outputs": [],
   "source": [
    "training_loader = torch.utils.data.DataLoader(training_loader, batch_size=16)\n",
    "validation_loader = torch.utils.data.DataLoader(validation_loader, batch_size=16)"
   ]
  },
  {
   "cell_type": "code",
   "execution_count": 41,
   "id": "fitting-monitor",
   "metadata": {},
   "outputs": [],
   "source": [
    "loss = nn.CrossEntropyLoss()\n",
    "optimisation = torch.optim.Adam(my_model.parameters(), lr=0.001)"
   ]
  },
  {
   "cell_type": "code",
   "execution_count": 42,
   "id": "persistent-general",
   "metadata": {},
   "outputs": [
    {
     "name": "stdout",
     "output_type": "stream",
     "text": [
      "For the 1 training \n",
      "training loss : 0.5265935063362122, validation loss 0.5491381287574768 and precision 0.845\n",
      "For the 2 training \n",
      "training loss : 0.5314667224884033, validation loss 0.5633441209793091 and precision 0.844\n",
      "For the 3 training \n",
      "training loss : 0.5321543216705322, validation loss 0.5806108713150024 and precision 0.844\n",
      "For the 4 training \n",
      "training loss : 0.5244475603103638, validation loss 0.5942559242248535 and precision 0.845\n",
      "For the 5 training \n",
      "training loss : 0.5234931707382202, validation loss 0.6000617742538452 and precision 0.845\n",
      "For the 6 training \n",
      "training loss : 0.532001256942749, validation loss 0.6102816462516785 and precision 0.846\n",
      "For the 7 training \n",
      "training loss : 0.5242199301719666, validation loss 0.6141124367713928 and precision 0.845\n",
      "For the 8 training \n",
      "training loss : 0.5300406813621521, validation loss 0.6233878135681152 and precision 0.847\n",
      "For the 9 training \n",
      "training loss : 0.5416330099105835, validation loss 0.6270130276679993 and precision 0.847\n",
      "For the 10 training \n",
      "training loss : 0.5395665764808655, validation loss 0.6371363401412964 and precision 0.848\n",
      "For the 11 training \n",
      "training loss : 0.5254594087600708, validation loss 0.6327022314071655 and precision 0.85\n",
      "For the 12 training \n",
      "training loss : 0.5091533064842224, validation loss 0.6204913258552551 and precision 0.849\n",
      "For the 13 training \n",
      "training loss : 0.5000113248825073, validation loss 0.6269533634185791 and precision 0.85\n",
      "For the 14 training \n",
      "training loss : 0.5018271803855896, validation loss 0.6388362050056458 and precision 0.849\n",
      "For the 15 training \n",
      "training loss : 0.4988328218460083, validation loss 0.63758784532547 and precision 0.85\n",
      "For the 16 training \n",
      "training loss : 0.49976417422294617, validation loss 0.6381763815879822 and precision 0.851\n",
      "For the 17 training \n",
      "training loss : 0.5021105408668518, validation loss 0.6424988508224487 and precision 0.852\n",
      "For the 18 training \n",
      "training loss : 0.497281938791275, validation loss 0.6539903283119202 and precision 0.853\n",
      "For the 19 training \n",
      "training loss : 0.4901188015937805, validation loss 0.653735339641571 and precision 0.852\n",
      "For the 20 training \n",
      "training loss : 0.4888352155685425, validation loss 0.6579221487045288 and precision 0.854\n",
      "For the 21 training \n",
      "training loss : 0.490404337644577, validation loss 0.6590561866760254 and precision 0.854\n",
      "For the 22 training \n",
      "training loss : 0.4950563609600067, validation loss 0.667885422706604 and precision 0.854\n",
      "For the 23 training \n",
      "training loss : 0.5002244114875793, validation loss 0.6454404592514038 and precision 0.854\n",
      "For the 24 training \n",
      "training loss : 0.5011062622070312, validation loss 0.6514918804168701 and precision 0.854\n",
      "For the 25 training \n",
      "training loss : 0.5045262575149536, validation loss 0.6523352861404419 and precision 0.855\n",
      "For the 26 training \n",
      "training loss : 0.502911388874054, validation loss 0.6478691697120667 and precision 0.856\n",
      "For the 27 training \n",
      "training loss : 0.4886898100376129, validation loss 0.6309053301811218 and precision 0.855\n",
      "For the 28 training \n",
      "training loss : 0.4964785575866699, validation loss 0.6228914856910706 and precision 0.855\n",
      "For the 29 training \n",
      "training loss : 0.49801379442214966, validation loss 0.6113722324371338 and precision 0.856\n",
      "For the 30 training \n",
      "training loss : 0.483923077583313, validation loss 0.6036644577980042 and precision 0.857\n",
      "For the 31 training \n",
      "training loss : 0.4758093059062958, validation loss 0.6061391830444336 and precision 0.857\n",
      "For the 32 training \n",
      "training loss : 0.48407283425331116, validation loss 0.601933479309082 and precision 0.857\n",
      "For the 33 training \n",
      "training loss : 0.4772273302078247, validation loss 0.603896975517273 and precision 0.858\n",
      "For the 34 training \n",
      "training loss : 0.47650614380836487, validation loss 0.6004369258880615 and precision 0.858\n",
      "For the 35 training \n",
      "training loss : 0.4794556796550751, validation loss 0.5955188274383545 and precision 0.857\n",
      "For the 36 training \n",
      "training loss : 0.46214190125465393, validation loss 0.60976642370224 and precision 0.858\n",
      "For the 37 training \n",
      "training loss : 0.48087531328201294, validation loss 0.600706934928894 and precision 0.857\n",
      "For the 38 training \n",
      "training loss : 0.4723826050758362, validation loss 0.5863552093505859 and precision 0.858\n",
      "For the 39 training \n",
      "training loss : 0.47193917632102966, validation loss 0.6023547649383545 and precision 0.858\n",
      "For the 40 training \n",
      "training loss : 0.46569713950157166, validation loss 0.6000064015388489 and precision 0.859\n",
      "For the 41 training \n",
      "training loss : 0.45460736751556396, validation loss 0.6079089045524597 and precision 0.86\n",
      "For the 42 training \n",
      "training loss : 0.46327707171440125, validation loss 0.5974056720733643 and precision 0.86\n",
      "For the 43 training \n",
      "training loss : 0.4534454345703125, validation loss 0.5985662937164307 and precision 0.86\n",
      "For the 44 training \n",
      "training loss : 0.451349675655365, validation loss 0.5934133529663086 and precision 0.861\n",
      "For the 45 training \n",
      "training loss : 0.45073819160461426, validation loss 0.5978074073791504 and precision 0.86\n",
      "For the 46 training \n",
      "training loss : 0.43779051303863525, validation loss 0.6050657033920288 and precision 0.86\n",
      "For the 47 training \n",
      "training loss : 0.437472403049469, validation loss 0.604040801525116 and precision 0.861\n",
      "For the 48 training \n",
      "training loss : 0.42879897356033325, validation loss 0.5914548635482788 and precision 0.861\n",
      "For the 49 training \n",
      "training loss : 0.4319787323474884, validation loss 0.5810772180557251 and precision 0.861\n",
      "For the 50 training \n",
      "training loss : 0.4300157129764557, validation loss 0.5770410299301147 and precision 0.862\n",
      "For the 51 training \n",
      "training loss : 0.430331289768219, validation loss 0.5745741128921509 and precision 0.862\n",
      "For the 52 training \n",
      "training loss : 0.42475980520248413, validation loss 0.5776121616363525 and precision 0.861\n",
      "For the 53 training \n",
      "training loss : 0.4253612458705902, validation loss 0.572983980178833 and precision 0.861\n",
      "For the 54 training \n",
      "training loss : 0.4228713810443878, validation loss 0.575104832649231 and precision 0.861\n",
      "For the 55 training \n",
      "training loss : 0.41426151990890503, validation loss 0.5710443258285522 and precision 0.861\n",
      "For the 56 training \n",
      "training loss : 0.4158353805541992, validation loss 0.5634598731994629 and precision 0.86\n",
      "For the 57 training \n",
      "training loss : 0.4163426458835602, validation loss 0.5644292235374451 and precision 0.86\n",
      "For the 58 training \n",
      "training loss : 0.4218725860118866, validation loss 0.5616573095321655 and precision 0.86\n",
      "For the 59 training \n",
      "training loss : 0.42214009165763855, validation loss 0.5672703981399536 and precision 0.86\n",
      "For the 60 training \n",
      "training loss : 0.42228081822395325, validation loss 0.5654679536819458 and precision 0.862\n",
      "For the 61 training \n",
      "training loss : 0.4195925295352936, validation loss 0.5624161958694458 and precision 0.861\n",
      "For the 62 training \n",
      "training loss : 0.4197731912136078, validation loss 0.5637356042861938 and precision 0.861\n",
      "For the 63 training \n",
      "training loss : 0.4171488583087921, validation loss 0.5651155114173889 and precision 0.861\n",
      "For the 64 training \n",
      "training loss : 0.4126316010951996, validation loss 0.554655909538269 and precision 0.862\n",
      "For the 65 training \n",
      "training loss : 0.4150155484676361, validation loss 0.5511301755905151 and precision 0.862\n",
      "For the 66 training \n",
      "training loss : 0.41875159740448, validation loss 0.544538140296936 and precision 0.863\n",
      "For the 67 training \n",
      "training loss : 0.41154658794403076, validation loss 0.5401620268821716 and precision 0.862\n",
      "For the 68 training \n",
      "training loss : 0.4074357748031616, validation loss 0.5430583953857422 and precision 0.863\n",
      "For the 69 training \n",
      "training loss : 0.40422189235687256, validation loss 0.5429097414016724 and precision 0.862\n",
      "For the 70 training \n",
      "training loss : 0.40635913610458374, validation loss 0.5459238886833191 and precision 0.862\n",
      "For the 71 training \n",
      "training loss : 0.4039929211139679, validation loss 0.5454052686691284 and precision 0.862\n",
      "For the 72 training \n",
      "training loss : 0.41286030411720276, validation loss 0.5320847034454346 and precision 0.862\n",
      "For the 73 training \n",
      "training loss : 0.4093235731124878, validation loss 0.5347468852996826 and precision 0.862\n",
      "For the 74 training \n",
      "training loss : 0.40761899948120117, validation loss 0.5257550477981567 and precision 0.863\n",
      "For the 75 training \n",
      "training loss : 0.41322416067123413, validation loss 0.5210871696472168 and precision 0.862\n",
      "For the 76 training \n",
      "training loss : 0.4099324345588684, validation loss 0.5159841179847717 and precision 0.863\n",
      "For the 77 training \n",
      "training loss : 0.40607061982154846, validation loss 0.5166597366333008 and precision 0.864\n",
      "For the 78 training \n",
      "training loss : 0.4038988947868347, validation loss 0.5015579462051392 and precision 0.863\n",
      "For the 79 training \n",
      "training loss : 0.40076056122779846, validation loss 0.5080865621566772 and precision 0.864\n",
      "For the 80 training \n",
      "training loss : 0.4000135064125061, validation loss 0.5052849054336548 and precision 0.864\n",
      "For the 81 training \n",
      "training loss : 0.40738728642463684, validation loss 0.5034478902816772 and precision 0.864\n",
      "For the 82 training \n",
      "training loss : 0.3989284336566925, validation loss 0.49635830521583557 and precision 0.864\n",
      "For the 83 training \n",
      "training loss : 0.39915549755096436, validation loss 0.4973759055137634 and precision 0.864\n",
      "For the 84 training \n",
      "training loss : 0.4031485617160797, validation loss 0.5014631748199463 and precision 0.864\n",
      "For the 85 training \n",
      "training loss : 0.3999655842781067, validation loss 0.4939683675765991 and precision 0.863\n",
      "For the 86 training \n",
      "training loss : 0.40244874358177185, validation loss 0.48985373973846436 and precision 0.863\n",
      "For the 87 training \n",
      "training loss : 0.40413641929626465, validation loss 0.48604029417037964 and precision 0.862\n",
      "For the 88 training \n",
      "training loss : 0.39542514085769653, validation loss 0.49024099111557007 and precision 0.862\n",
      "For the 89 training \n",
      "training loss : 0.4093422591686249, validation loss 0.4762076735496521 and precision 0.862\n",
      "For the 90 training \n",
      "training loss : 0.40185675024986267, validation loss 0.48676374554634094 and precision 0.863\n",
      "For the 91 training \n",
      "training loss : 0.40108004212379456, validation loss 0.4860989451408386 and precision 0.862\n",
      "For the 92 training \n",
      "training loss : 0.40140655636787415, validation loss 0.48646309971809387 and precision 0.863\n",
      "For the 93 training \n",
      "training loss : 0.4035089313983917, validation loss 0.47514644265174866 and precision 0.864\n",
      "For the 94 training \n",
      "training loss : 0.404391884803772, validation loss 0.48053061962127686 and precision 0.864\n",
      "For the 95 training \n",
      "training loss : 0.40733927488327026, validation loss 0.47763359546661377 and precision 0.864\n",
      "For the 96 training \n",
      "training loss : 0.4046997129917145, validation loss 0.4798858165740967 and precision 0.863\n",
      "For the 97 training \n",
      "training loss : 0.40565913915634155, validation loss 0.4840880036354065 and precision 0.864\n",
      "For the 98 training \n",
      "training loss : 0.403999924659729, validation loss 0.4794171452522278 and precision 0.863\n",
      "For the 99 training \n",
      "training loss : 0.40356114506721497, validation loss 0.48058784008026123 and precision 0.864\n",
      "For the 100 training \n",
      "training loss : 0.4024534225463867, validation loss 0.4769912362098694 and precision 0.864\n"
     ]
    }
   ],
   "source": [
    "epochs = 100\n",
    "for p in range(epochs):\n",
    "    print('For the {} training '.format(p + 1))\n",
    "    loss_app = 0.0\n",
    "    for data in training_loader:\n",
    "        inputs, labels = data\n",
    "        my_model.zero_grad()\n",
    "        outputs = my_model(torch.flatten(inputs, start_dim=1))\n",
    "        loss_app = loss(outputs, labels)\n",
    "        loss_app.backward()\n",
    "        optimisation.step()\n",
    "\n",
    "    loss_val = 0.0\n",
    "    correct = 0\n",
    "    total = 0\n",
    "\n",
    "    with torch.no_grad():\n",
    "        for data in validation_loader:\n",
    "            inputs, labels = data\n",
    "            outputs = my_model(torch.flatten(inputs, start_dim=1))\n",
    "\n",
    "            loss_val = loss(outputs, labels)\n",
    "            for idx, l in enumerate(outputs):\n",
    "                if torch.argmax(l) == labels[idx]:\n",
    "                    correct += 1\n",
    "                total += 1\n",
    "        loss_avg_validation = correct / total\n",
    "        loss_avg_validation = round(loss_avg_validation, 3)\n",
    "\n",
    "    print(\"training loss : {}, validation loss {} and precision {}\".format(loss_app, loss_val, loss_avg_validation))"
   ]
  },
  {
   "cell_type": "code",
   "execution_count": 22,
   "id": "tight-istanbul",
   "metadata": {},
   "outputs": [
    {
     "name": "stdout",
     "output_type": "stream",
     "text": [
      "tensor(1)\n"
     ]
    },
    {
     "data": {
      "image/png": "[encoded data removed]",
      "text/plain": [
       "<Figure size 432x288 with 1 Axes>"
      ]
     },
     "metadata": {
      "needs_background": "light"
     },
     "output_type": "display_data"
    }
   ],
   "source": [
    "test=feature(validation[20])#Features extraction of the image\n",
    "print(validation_labels[20])#Printing the real label of the image\n",
    "plt.imshow(validation[20].view(28,28))\n",
    "plt.title(torch.argmax(my_model((test))))#Adding the predicted label to the title\n",
    "plt.show()"
   ]
  },
  {
   "cell_type": "code",
   "execution_count": 60,
   "id": "north-maldives",
   "metadata": {},
   "outputs": [],
   "source": [
    "PATH = 'model_1.pth'\n",
    "torch.save(my_model.state_dict(), PATH)"
   ]
  },
  {
   "cell_type": "code",
   "execution_count": 23,
   "id": "dressed-ethernet",
   "metadata": {},
   "outputs": [
    {
     "data": {
      "text/plain": [
       "<All keys matched successfully>"
      ]
     },
     "execution_count": 23,
     "metadata": {},
     "output_type": "execute_result"
    }
   ],
   "source": [
    "PATH = 'model_1.pth'\n",
    "the_model = nn.Sequential(nn.Linear(48, 20), nn.ReLU(), nn.Linear(20, 20), nn.ReLU(), nn.Linear(20, 10))\n",
    "the_model.load_state_dict(torch.load(PATH))"
   ]
  },
  {
   "cell_type": "code",
   "execution_count": 24,
   "id": "exact-filling",
   "metadata": {},
   "outputs": [
    {
     "data": {
      "text/plain": [
       "Sequential(\n",
       "  (0): Linear(in_features=48, out_features=20, bias=True)\n",
       "  (1): ReLU()\n",
       "  (2): Linear(in_features=20, out_features=20, bias=True)\n",
       "  (3): ReLU()\n",
       "  (4): Linear(in_features=20, out_features=10, bias=True)\n",
       ")"
      ]
     },
     "execution_count": 24,
     "metadata": {},
     "output_type": "execute_result"
    }
   ],
   "source": [
    "the_model.eval()"
   ]
  },
  {
   "cell_type": "code",
   "execution_count": 25,
   "id": "thick-efficiency",
   "metadata": {},
   "outputs": [
    {
     "name": "stdout",
     "output_type": "stream",
     "text": [
      "tensor(3)\n",
      "torch.Size([28, 28])\n"
     ]
    },
    {
     "data": {
      "image/png": "[encoded data removed]",
      "text/plain": [
       "<Figure size 432x288 with 1 Axes>"
      ]
     },
     "metadata": {
      "needs_background": "light"
     },
     "output_type": "display_data"
    }
   ],
   "source": [
    "print(validation_labels[49])\n",
    "print(validation[49].shape)\n",
    "plt.imshow(validation[49].view(28,28))\n",
    "plt.title(torch.argmax(the_model((test))))\n",
    "plt.show()"
   ]
  },
  {
   "cell_type": "code",
   "execution_count": 29,
   "id": "loved-arctic",
   "metadata": {},
   "outputs": [],
   "source": [
    "import cv2\n",
    "import numpy as np\n",
    "def image_read(img):        \n",
    "        image = cv2.imread(cv2.samples.findFile(img))\n",
    "\n",
    "\n",
    "        \n",
    "        dimention = (28,28)\n",
    "        \n",
    "        image = cv2.resize(image,dimention,interpolation = cv2.INTER_AREA)\n",
    "        \n",
    "        image = cv2.cvtColor(image, cv2.COLOR_BGR2GRAY)\n",
    "\n",
    "\n",
    "\n",
    "\n",
    "        \n",
    "        plt.imshow(image)\n",
    "        \n",
    "        plt.show()\n",
    "\n",
    "\n",
    "        \n",
    "        image = torch.Tensor(image)\n",
    "        \n",
    "        image = feature(image)\n",
    "        \n",
    "        pred = the_model(image)\n",
    "        \n",
    "        print('lapred',torch.argmax(pred))\n",
    "        \n",
    "        print(image.shape)"
   ]
  },
  {
   "cell_type": "code",
   "execution_count": 30,
   "id": "engaged-webster",
   "metadata": {},
   "outputs": [
    {
     "data": {
      "image/png": "[encoded data removed]",
      "text/plain": [
       "<Figure size 432x288 with 1 Axes>"
      ]
     },
     "metadata": {
      "needs_background": "light"
     },
     "output_type": "display_data"
    },
    {
     "name": "stdout",
     "output_type": "stream",
     "text": [
      "lapred tensor(2)\n",
      "torch.Size([48])\n"
     ]
    },
    {
     "data": {
      "image/png": "[encoded data removed]",
      "text/plain": [
       "<Figure size 432x288 with 1 Axes>"
      ]
     },
     "metadata": {
      "needs_background": "light"
     },
     "output_type": "display_data"
    },
    {
     "name": "stdout",
     "output_type": "stream",
     "text": [
      "lapred tensor(1)\n",
      "torch.Size([48])\n"
     ]
    },
    {
     "data": {
      "image/png": "[encoded data removed]",
      "text/plain": [
       "<Figure size 432x288 with 1 Axes>"
      ]
     },
     "metadata": {
      "needs_background": "light"
     },
     "output_type": "display_data"
    },
    {
     "name": "stdout",
     "output_type": "stream",
     "text": [
      "lapred tensor(3)\n",
      "torch.Size([48])\n"
     ]
    },
    {
     "data": {
      "image/png": "[encoded data removed]",
      "text/plain": [
       "<Figure size 432x288 with 1 Axes>"
      ]
     },
     "metadata": {
      "needs_background": "light"
     },
     "output_type": "display_data"
    },
    {
     "name": "stdout",
     "output_type": "stream",
     "text": [
      "lapred tensor(1)\n",
      "torch.Size([48])\n"
     ]
    }
   ],
   "source": [
    "drawing = False\n",
    "def draw(event, x, y, flags, param):\n",
    "  global drawing\n",
    "\n",
    "  if event == cv2.EVENT_LBUTTONDOWN:\n",
    "    drawing = True\n",
    "  elif event == cv2.EVENT_LBUTTONUP:\n",
    "    drawing = False\n",
    "  elif event == cv2.EVENT_MOUSEMOVE:\n",
    "    if drawing == True:\n",
    "      cv2.circle(img1, (x,y), 5, (255,0,0), -1)\n",
    "\n",
    "img1 = np.zeros((150,150,1),np.uint8)\n",
    "cv2.namedWindow(\"image\")\n",
    "cv2.setMouseCallback(\"image\",draw)\n",
    "while(1):\n",
    "    cv2.imshow(\"image\",img1)\n",
    "    k = cv2.waitKey(1) & 0xFF\n",
    "    if k == ord('s'):\n",
    "        break\n",
    "    elif k == ord('p'):\n",
    "        cv2.imwrite('resized.png', img1)\n",
    "        image_read('resized.png')\n",
    "        img1 = np.zeros((150,150,1), np.uint8)\n",
    "        \n",
    "    elif k == ord('c'):\n",
    "        img1 = np.zeros((150,150,1), np.uint8)\n",
    "cv2.destroyAllWindows()"
   ]
  },
  {
   "cell_type": "code",
   "execution_count": 27,
   "id": "infectious-concern",
   "metadata": {},
   "outputs": [
    {
     "data": {
      "image/png": "[encoded data removed]",
      "text/plain": [
       "<Figure size 432x288 with 1 Axes>"
      ]
     },
     "metadata": {
      "needs_background": "light"
     },
     "output_type": "display_data"
    },
    {
     "name": "stdout",
     "output_type": "stream",
     "text": [
      "lapred tensor(0)\n",
      "torch.Size([48])\n"
     ]
    }
   ],
   "source": [
    "import cv2\n",
    "from PIL import Image\n",
    "import matplotlib.pyplot as plt\n",
    "import torchvision.transforms.functional as TF\n",
    "\n",
    "image = cv2.imread(cv2.samples.findFile(\"5.png\"))\n",
    "\n",
    "dimention = (28,28)\n",
    "image = cv2.resize(image,dimention,interpolation = cv2.INTER_AREA)\n",
    "image = cv2.cvtColor(image, cv2.COLOR_BGR2GRAY)\n",
    "\n",
    "\n",
    "plt.imshow(image)\n",
    "plt.show()\n",
    "\n",
    "image = torch.Tensor(image)\n",
    "image = feature(image)\n",
    "pred = model(image)\n",
    "print('lapred',torch.argmax(pred))\n",
    "print(image.shape)"
   ]
  },
  {
   "cell_type": "code",
   "execution_count": null,
   "id": "living-diary",
   "metadata": {},
   "outputs": [],
   "source": []
  }
 ],
 "metadata": {
  "kernelspec": {
   "display_name": "Python 3",
   "language": "python",
   "name": "python3"
  },
  "language_info": {
   "codemirror_mode": {
    "name": "ipython",
    "version": 3
   },
   "file_extension": ".py",
   "mimetype": "text/x-python",
   "name": "python",
   "nbconvert_exporter": "python",
   "pygments_lexer": "ipython3",
   "version": "3.9.1rc1"
  }
 },
 "nbformat": 4,
 "nbformat_minor": 5
}
