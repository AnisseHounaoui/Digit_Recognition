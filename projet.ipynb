{
 "cells": [
  {
   "cell_type": "code",
   "execution_count": 4,
   "metadata": {},
   "outputs": [],
   "source": [
    "import torch\n",
    "import torchvision\n",
    "import numpy as np\n",
    "import torch.nn as nn\n",
    "import torch.optim as optim\n",
    "import matplotlib.pyplot as plt\n",
    "from torchvision import datasets, transforms"
   ]
  },
  {
   "cell_type": "code",
   "execution_count": 5,
   "metadata": {},
   "outputs": [],
   "source": [
    "\n",
    "train_data = torchvision.datasets.MNIST(root='./MNIST', train=True,\n",
    "                                        download=True, transform=transforms.ToTensor())\n",
    "\n",
    "\n",
    "test_data = torchvision.datasets.MNIST(root='./MNIST', train=False,\n",
    "                                       download=True, transform=transforms.ToTensor())\n",
    "\n"
   ]
  },
  {
   "cell_type": "code",
   "execution_count": null,
   "metadata": {},
   "outputs": [],
   "source": [
    "def extraction(image):\n",
    "    #split image to 16 cells\n",
    "    for j in range(16): #for each cell extract 3 features\n",
    "        #feature 1 \n",
    "        #apply regression linear\n",
    "        #feature 2\n",
    "        #feature 3\n",
    "    return "
   ]
  },
  {
   "cell_type": "code",
   "execution_count": null,
   "metadata": {},
   "outputs": [],
   "source": [
    "for i in range(60000):\n",
    "    new_dataset=extraction(train_data[i][0])"
   ]
  },
  {
   "cell_type": "code",
   "execution_count": 6,
   "metadata": {},
   "outputs": [],
   "source": [
    "BatchSize = 16\n",
    "train,test = torch.utils.data.random_split(train_data,[50000,10000])\n",
    "train_loader = torch.utils.data.DataLoader(train , batch_size=BatchSize) # Creating dataloader\n",
    "test_loader = torch.utils.data.DataLoader(test , batch_size=BatchSize)"
   ]
  },
  {
   "cell_type": "code",
   "execution_count": 7,
   "metadata": {},
   "outputs": [
    {
     "name": "stdout",
     "output_type": "stream",
     "text": [
      "GPU is available!\n"
     ]
    }
   ],
   "source": [
    "use_gpu = torch.cuda.is_available()\n",
    "if use_gpu:\n",
    "    print('GPU is available!')\n",
    "    device = \"cuda\"\n",
    "else:\n",
    "    print('GPU is not available!')\n",
    "    device = \"cpu\""
   ]
  },
  {
   "cell_type": "code",
   "execution_count": 12,
   "metadata": {},
   "outputs": [],
   "source": [
    "class MyNN(nn.Module):\n",
    "    def __init__(self):\n",
    "        super(MyNN, self).__init__()\n",
    "        self.Layer1 = nn.Sequential(\n",
    "            nn.Linear(784, 64),\n",
    "            nn.ReLU(),\n",
    "            nn.Linear(64, 32),\n",
    "            nn.ReLU())\n",
    "        self.Layer2 = nn.Sequential(\n",
    "            nn.Linear(32, 10))\n",
    "\n",
    "    def forward(self, x):\n",
    "        x = self.Layer1(x)\n",
    "        x = self.Layer2(x)\n",
    "        return x\n",
    "    \n"
   ]
  },
  {
   "cell_type": "code",
   "execution_count": 13,
   "metadata": {},
   "outputs": [],
   "source": [
    "network = MyNN()\n",
    "network = network.to(device)"
   ]
  },
  {
   "cell_type": "code",
   "execution_count": 14,
   "metadata": {},
   "outputs": [],
   "source": [
    "loss_fct1 = nn.CrossEntropyLoss()"
   ]
  },
  {
   "cell_type": "code",
   "execution_count": 15,
   "metadata": {
    "scrolled": false
   },
   "outputs": [
    {
     "data": {
      "text/plain": [
       "MyNN(\n",
       "  (Layer1): Sequential(\n",
       "    (0): Linear(in_features=784, out_features=64, bias=True)\n",
       "    (1): ReLU()\n",
       "    (2): Linear(in_features=64, out_features=32, bias=True)\n",
       "    (3): ReLU()\n",
       "  )\n",
       "  (Layer2): Sequential(\n",
       "    (0): Linear(in_features=32, out_features=10, bias=True)\n",
       "  )\n",
       ")"
      ]
     },
     "execution_count": 15,
     "metadata": {},
     "output_type": "execute_result"
    }
   ],
   "source": [
    "network"
   ]
  },
  {
   "cell_type": "code",
   "execution_count": 16,
   "metadata": {},
   "outputs": [],
   "source": [
    "def TrainModel(model,optim_fct,loss_fct,data_input,label):\n",
    "    model.train() # For training\n",
    "    optim_fct.zero_grad()\n",
    "    output = model(data_input)\n",
    "    loss = loss_fct(output, label)\n",
    "    loss.backward()\n",
    "    optim_fct.step()\n",
    "    return loss.item()"
   ]
  },
  {
   "cell_type": "code",
   "execution_count": 17,
   "metadata": {},
   "outputs": [],
   "source": [
    "optim_fct1 = optim.SGD(network.parameters(),lr=0.005)"
   ]
  },
  {
   "cell_type": "code",
   "execution_count": 20,
   "metadata": {},
   "outputs": [
    {
     "name": "stdout",
     "output_type": "stream",
     "text": [
      "At Epoch 1\n",
      "SGD: Loss = 0.000021 , Acc = 94.7300\n",
      "At Epoch 2\n",
      "SGD: Loss = 0.000018 , Acc = 94.9100\n",
      "At Epoch 3\n",
      "SGD: Loss = 0.000016 , Acc = 95.1200\n",
      "At Epoch 4\n",
      "SGD: Loss = 0.000014 , Acc = 95.3300\n",
      "At Epoch 5\n",
      "SGD: Loss = 0.000013 , Acc = 95.5100\n",
      "At Epoch 6\n",
      "SGD: Loss = 0.000012 , Acc = 95.7300\n",
      "At Epoch 7\n",
      "SGD: Loss = 0.000011 , Acc = 95.8300\n",
      "At Epoch 8\n",
      "SGD: Loss = 0.000011 , Acc = 95.9100\n",
      "At Epoch 9\n",
      "SGD: Loss = 0.000011 , Acc = 95.9600\n",
      "At Epoch 10\n",
      "SGD: Loss = 0.000010 , Acc = 96.1100\n",
      "At Epoch 11\n",
      "SGD: Loss = 0.000010 , Acc = 96.1800\n",
      "At Epoch 12\n",
      "SGD: Loss = 0.000009 , Acc = 96.1800\n"
     ]
    }
   ],
   "source": [
    "iterations = 12\n",
    "\n",
    "for epoch in range(iterations):\n",
    "    \n",
    "    #training\n",
    "    train_loss = 0\n",
    "    #network.train()\n",
    "    for data in train_loader:\n",
    "        feature, label = data\n",
    "        #output = network(torch.flatten(feature,start_dim=1))\n",
    "        feature, label = feature.view(-1, 28*28).to(device), label.to(device)         \n",
    "\n",
    "        loss = TrainModel(network,optim_fct1,loss_fct1,feature,label)\n",
    "        train_loss += loss\n",
    "        train_loss /= len(train_loader)\n",
    "    \n",
    "    network.eval()\n",
    "    \n",
    "    #testing\n",
    "    with torch.no_grad(): # Gradient computation is not involved in inference\n",
    "        test_loss = 0\n",
    "        correct = 0\n",
    "        total = 0\n",
    "        for data in test_loader:\n",
    "            feature, label = data\n",
    "            feature, label = feature.view(-1, 28*28).to(device), label.to(device)         \n",
    "            total += label.size(0)\n",
    "            output = network(feature)\n",
    "            _, predicted = torch.max(output.data, 1)\n",
    "            correct += (predicted == label).sum()\n",
    "    print('At Epoch '+str(epoch+1))\n",
    "    print('SGD: Loss = {:.6f} , Acc = {:.4f}'.format(train_loss,float(correct)*100/float(total)))"
   ]
  },
  {
   "cell_type": "code",
   "execution_count": null,
   "metadata": {},
   "outputs": [],
   "source": []
  },
  {
   "cell_type": "code",
   "execution_count": null,
   "metadata": {},
   "outputs": [],
   "source": []
  }
 ],
 "metadata": {
  "kernelspec": {
   "display_name": "Python 3",
   "language": "python",
   "name": "python3"
  },
  "language_info": {
   "codemirror_mode": {
    "name": "ipython",
    "version": 3
   },
   "file_extension": ".py",
   "mimetype": "text/x-python",
   "name": "python",
   "nbconvert_exporter": "python",
   "pygments_lexer": "ipython3",
   "version": "3.8.5"
  }
 },
 "nbformat": 4,
 "nbformat_minor": 4
}
